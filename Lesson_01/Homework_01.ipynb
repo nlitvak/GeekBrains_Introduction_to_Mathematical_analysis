{
 "cells": [
  {
   "cell_type": "code",
   "execution_count": 1,
   "metadata": {},
   "outputs": [],
   "source": [
    "import numpy as np\n",
    "import itertools"
   ]
  },
  {
   "attachments": {},
   "cell_type": "markdown",
   "metadata": {},
   "source": [
    "### Как относятся друг к другу множество и последовательность? (в ответе использовать слова типа: часть, целое, общее, частное, родитель, дочерний субъект и т.д.)"
   ]
  },
  {
   "cell_type": "markdown",
   "metadata": {},
   "source": [
    "Последовательность - это функция аргументом которой является элемент из множества натуральных чисел. Значения этой функции принадлежат некоторому множеству, которое называется областью значения функции."
   ]
  },
  {
   "cell_type": "markdown",
   "metadata": {},
   "source": [
    "### Прочитать высказывания математической логики, построить их отрицания и установить истинность."
   ]
  },
  {
   "cell_type": "markdown",
   "metadata": {},
   "source": [
    "$\\forall y \\in[0 ; 1] : \\operatorname{sgn}(y)=1$\n",
    "\n",
    "Для любого y, принадлежащего отрезку от 0 до 1 включительно, верно, что значение функции sgn(y) равно 1.  \n",
    "**Это выражение ложно.**  \n",
    "\n",
    "Отрицание:  \n",
    "$\\exists y \\in[0 ; 1] : \\operatorname{sgn}(y)\\not=1$"
   ]
  },
  {
   "cell_type": "markdown",
   "metadata": {},
   "source": [
    "$\\forall n \\in \\mathbb{N}>2 : \\exists x, y, z \\in \\mathbb{N} : x^{n}=y^{n}+z^{n}$\n",
    "\n",
    "Для любого n из множества натуральных чисел и больше 2 существуют такие x,y,z из множества натуральных чисел, что справедливо равенство x^n = y^n + z^n  \n",
    "**Это выражение ложно.**  \n",
    "\n",
    "Отрицание:  \n",
    "$\\exists n \\in \\mathbb{N}>2 : \\forall x, y, z \\in \\mathbb{N} : x^{n}\\not=y^{n}+z^{n}$\n"
   ]
  },
  {
   "cell_type": "markdown",
   "metadata": {},
   "source": [
    "$\\forall x \\in \\mathbb{R} \\exists X \\in \\mathbb{R} : X>x$\n",
    "\n",
    "Для любого x из множества действительных чисел существует такое X из множества действительных чисел, что X > x.  \n",
    "**Это выражение истинно.**  \n",
    "\n",
    "Отрицание:  \n",
    "$\\exists x \\in \\mathbb{R} \\forall X \\in \\mathbb{R} : X\\leq x$\n"
   ]
  },
  {
   "cell_type": "markdown",
   "metadata": {},
   "source": [
    "$\\forall x \\in \\mathbb{C} \\not \\exists y \\in \\mathbb{C} : x>y \\| x<y$\n",
    "\n",
    "Для любого х из множества комплексных чисел не существует такого y из множества комплексных чисел что справедливо неравенство x > y или x < y  \n",
    "**Это выражение ложно.**  \n",
    "\n",
    "Отрицание:  \n",
    "$\\exists x \\in \\mathbb{C} \\exists y \\in \\mathbb{C} : x \\leq y , x \\geq y$"
   ]
  },
  {
   "cell_type": "markdown",
   "metadata": {},
   "source": [
    "$\\forall y \\in\\left[0 ; \\frac{\\pi}{2}\\right] \\exists \\varepsilon>0 : \\sin y<\\sin (y+\\varepsilon)$\n",
    "\n",
    "Для любого y, принадлежащего отрезку от 0 до $\\frac{\\pi}2$ включительно, существует такое положительное значение $\\varepsilon$, что справедливо неравенство sin(y) < sin(y+$\\varepsilon$)  \n",
    "**Это выражение ложно.**  \n",
    "\n",
    "Отрицание:  \n",
    "$\\exists y \\in\\left[0 ; \\frac{\\pi}{2}\\right] \\forall \\varepsilon>0 : \\sin y \\geq \\sin (y+\\varepsilon)$"
   ]
  },
  {
   "cell_type": "markdown",
   "metadata": {},
   "source": [
    "$\\forall y \\in[0 ; \\pi) \\exists \\varepsilon>0 : \\cos y>\\cos (y+\\varepsilon)$\n",
    "               \n",
    "Для любого y, принадлежащего отрезку от 0 включительно до ${\\pi}$ ислючительно, существует такое положительное значение $\\varepsilon$, что справедливо неравенство cos(y) > cos(y+$\\varepsilon$)  \n",
    "**Это выражение ложно.**  \n",
    "\n",
    "Отрицание:  \n",
    "$\\exists y \\in[0 ; \\pi) \\forall \\varepsilon>0 : \\cos y \\leq \\cos (y+\\varepsilon)$\n"
   ]
  },
  {
   "cell_type": "markdown",
   "metadata": {},
   "source": [
    "$\\exists x : x \\notin\\{\\mathbb{N}, \\mathbb{Z}, \\mathbb{Q}, \\mathbb{R}, \\mathbb{C}\\}$\n",
    "    \n",
    "Для любого х справедливо, что х принадлежит множеству натуральных или целых или рациональных или вещественных или комплексных чисел.  \n",
    "**Это варажение ложно.**  \n",
    "Отрицание:  \n",
    "$\\forall x : x \\in\\{\\mathbb{C}\\}$\n"
   ]
  },
  {
   "cell_type": "markdown",
   "metadata": {},
   "source": [
    "### Даны три множества a,b и с. Необходимо выполнить все изученные виды бинарных операций над всеми комбинациями множеств.\n"
   ]
  },
  {
   "cell_type": "code",
   "execution_count": 2,
   "metadata": {},
   "outputs": [],
   "source": [
    "pass"
   ]
  },
  {
   "cell_type": "markdown",
   "metadata": {},
   "source": [
    "### На языке Python предложить алгоритм вычисляющий численно предел $$\\lim _{n \\rightarrow+\\infty} \\frac{n}{\\sqrt[n]{n !}}$$ с точностью $\\varepsilon=10^{-7}$**\n"
   ]
  },
  {
   "cell_type": "markdown",
   "metadata": {},
   "source": [
    "Формула Стирлинга для аппроксимации функции факториала: \n",
    "$$n ! \\approx \\sqrt{2 \\pi n}\\left(\\frac{n}{e}\\right)^{n}$$  \n",
    "\n",
    "Из нее получаем:  \n",
    "$$\\lim _{n \\rightarrow+\\infty} \\frac{e}{\\sqrt[2n]{\\pi n}}$$"
   ]
  },
  {
   "cell_type": "code",
   "execution_count": 3,
   "metadata": {},
   "outputs": [],
   "source": [
    "def fun(n):\n",
    "    return (np.exp(1))/((np.pi*n)**(1/(2*n)))"
   ]
  },
  {
   "cell_type": "code",
   "execution_count": 4,
   "metadata": {},
   "outputs": [
    {
     "name": "stdout",
     "output_type": "stream",
     "text": [
      "Значение предела функции: 2.7181439763031636\n"
     ]
    }
   ],
   "source": [
    "old_val = fun(1)\n",
    "for i in range(2, 100000000):\n",
    "    new_val = fun(i)\n",
    "    if new_val - old_val >= 1e-09:\n",
    "        old_val = new_val\n",
    "    else:\n",
    "        break\n",
    "        \n",
    "print(f'Значение предела функции: {new_val}')"
   ]
  },
  {
   "cell_type": "markdown",
   "metadata": {},
   "source": [
    "### Предложить оптимизацию алгоритма, полученного в предыдущем задании, ускоряющую его сходимость."
   ]
  },
  {
   "cell_type": "code",
   "execution_count": 5,
   "metadata": {},
   "outputs": [
    {
     "name": "stdout",
     "output_type": "stream",
     "text": [
      "Значение предела функции: 2.7181911018633533\n"
     ]
    }
   ],
   "source": [
    "# Оптимизируем перезначений\n",
    "i = 2\n",
    "while True:\n",
    "    old_val = fun(i-1)\n",
    "    new_val = fun(i)\n",
    "    \n",
    "    if new_val - old_val >= 1e-09:\n",
    "        i *= 10\n",
    "    else:\n",
    "        break\n",
    "        \n",
    "print(f'Значение предела функции: {new_val}')   "
   ]
  },
  {
   "cell_type": "code",
   "execution_count": null,
   "metadata": {},
   "outputs": [],
   "source": []
  }
 ],
 "metadata": {
  "kernelspec": {
   "display_name": "Python 3",
   "language": "python",
   "name": "python3"
  },
  "language_info": {
   "codemirror_mode": {
    "name": "ipython",
    "version": 3
   },
   "file_extension": ".py",
   "mimetype": "text/x-python",
   "name": "python",
   "nbconvert_exporter": "python",
   "pygments_lexer": "ipython3",
   "version": "3.7.1"
  }
 },
 "nbformat": 4,
 "nbformat_minor": 2
}
